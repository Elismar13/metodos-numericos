{
  "cells": [
    {
      "cell_type": "markdown",
      "metadata": {
        "id": "-pQM7z5W79kG"
      },
      "source": [
        "# <center>__MÉTODOS NUMÉRICOS__</center>\n",
        "## <center>__PROJETO DA UNIDADE 2__</center>\n",
        "\n",
        "#### <center>__ALUNO: Elismar Silva Pereira__</center>"
      ]
    },
    {
      "cell_type": "markdown",
      "metadata": {
        "id": "rekCYoRs79kJ"
      },
      "source": [
        "<div class=\"alert alert-block alert-info\">\n",
        "1. INTRODUÇÃO\n",
        "</div>"
      ]
    },
    {
      "cell_type": "markdown",
      "metadata": {
        "id": "ZOhvvU6L79kL"
      },
      "source": [
        "\n",
        "Neste trabalho será apresentado o conceito da regressão linear, visando apresentar a teoria, o problema a ser solucionado, diferentes abordagens para a construção do algoritmo e seus respectivos comportamentos, exemplos práticos e aplicações reais. Por fim será apresentado as conclusões e resultados obtidos ao utilizar esta abordagem para resolver problemas reais, de forma a expor a importância do estudo do tema abordado.\n",
        "\n",
        "A regressão linear surgiu no ramo da estatística e tem como objetivo modelar a relação entre uma resposta escalar e uma ou mais variáveis ​​​dependentes e independentes). Por conta desta característica, a regressão linear passou a ser adotada no sub-ramo da inteligência artificial, o Machine Learning, e hoje o algoritmo é considerado como fundamental nos modelos supervisionados de machine learning, por conta de sua simplicidade e propriedades bem difundidas.\n",
        "\n",
        "Alguns exemplos de aplicações reais consiste em: Estimação de gastos com combustíveis, entendimento da relação entre entre a dosagem do medicamento e a pressão arterial dos pacientes, medição do efeito de fertilizantes e água no rendimento das cultivas,  dentre outros vários outros problemas do dia a dia que podem ser resolvidos, estimados e descritos. Como exemplo prático deste trabalho, a regressão linear será utilizada para predição de dados de saúde.\n"
      ]
    },
    {
      "cell_type": "markdown",
      "metadata": {
        "id": "apy9xjoU79kM"
      },
      "source": [
        "<div class=\"alert alert-block alert-info\">\n",
        "2. DESCRIÇÃO DO PROBLEMA\n",
        "</div>"
      ]
    },
    {
      "cell_type": "markdown",
      "metadata": {
        "id": "MfhV2Kuq79kN"
      },
      "source": [
        "Nessa seção você descreverá o problema que será atacado, com o máximo de precisão possível. Tente apresentar as características do problema, bem como as aplicações associadas a ele.\n",
        "\n",
        "  A diabetes é uma doença cronica caracterizada pelo aumento dos níveis de açúcar no sangue, o que pode provocar danos em vários órgãos, se não for tratado. O número de casos de pessoas com diabetes vem crescendo nos últimos anos, tornando-se um ponto de atenção para a sociedade, por conta de suas consequências e complicações. A diabetes apresentam diferentes níveis, tendo como processo de diagnostico um série de medições de diversas substancias do corpo humano, como por exemplo a insulina e a glicemia, resultando assim em um índice o qual determina se a pessoa possui ou não diabetes. \n",
        "\n",
        "  A prevenção da diabetes é um ponto importante para as pessoas, principalmente para os mais velhos, apesar de que os jovens não estão imunes a doença, o que torna o processo de prevenção necessário e muito importante para evitar as complicações. "
      ]
    },
    {
      "cell_type": "markdown",
      "metadata": {
        "id": "ZCPJ687C79kP"
      },
      "source": [
        "<div class=\"alert alert-block alert-info\">\n",
        "3. MÉTODOS APLICADOS À SOLUÇÃO\n",
        "</div>"
      ]
    },
    {
      "cell_type": "markdown",
      "metadata": {
        "id": "SNx6Jp0t79kP"
      },
      "source": [
        "Nessa seção, você descreverá que métodos numéricos usará para solucionar o problema acima, explicando como esses métodos funcionam, para que tipos de problemas eles são úteis e, principalmente, porque são úteis para o problema descrito na seção anterior\n",
        "\n",
        "Neste trabalho será abordados os seguintes métodos:\n",
        "\n",
        "* Algoritmos para encontrar a solução dos mínimos quadrados:\n",
        "  * Método Cholesky:\n",
        "    * Consistem em um método o qual pode ser aplicado em uma matriz A que tem posto completo, a sua pseudo-inversa é uma matriz definida positiva quadrada hermitiana. \n",
        "    * é considerado instável em alguns casos, principalmente em aplicações com grandes matrizes. Não é recomendado o uso no geral.\n",
        "    * Equação:\n",
        "\n",
        "  * Método fatorização QR: \n",
        "    * Aplicação similar ao método Cholesky. Resulta em uma sistema triangular superior que basta ser resolvido para obter o resultado. \n",
        "    * É um pouco mais lento que o método Cholesky, mas é mais estável e menos suscetível a erros.  \n",
        "\n",
        "  * Método fatorização SVD (Singular Value Decomposition ou Decomposição em Valores Singulares): \n",
        "    * Aplicação similar ao método Cholesky. Resulta em uma sistema triangular superior que basta ser resolvido para obter o resultado. \n",
        "    * É um pouco mais lento que o método Cholesky, mas é mais estável e menos suscetível a erros. \n",
        "    * Equação:\n",
        "\n",
        " "
      ]
    },
    {
      "cell_type": "markdown",
      "metadata": {
        "id": "bMH8IJXU79kQ"
      },
      "source": [
        "<div class=\"alert alert-block alert-info\">\n",
        "4. IMPLEMENTAÇÃO\n",
        "</div>"
      ]
    },
    {
      "cell_type": "code",
      "source": [
        "from sklearn import datasets, linear_model, metrics\n",
        "from sklearn.model_selection import train_test_split\n",
        "from sklearn.preprocessing import PolynomialFeatures\n",
        "import math, scipy, numpy as np\n",
        "from scipy import linalg"
      ],
      "metadata": {
        "id": "_NTav8nN5HZC"
      },
      "execution_count": null,
      "outputs": []
    },
    {
      "cell_type": "code",
      "source": [
        "data = datasets.load_diabetes()"
      ],
      "metadata": {
        "id": "8-3Rl-Td7jkc"
      },
      "execution_count": null,
      "outputs": []
    },
    {
      "cell_type": "code",
      "source": [
        "feature_names=['age', 'sex', 'bmi', 'bp', 's1', 's2', 's3', 's4', 's5', 's6']"
      ],
      "metadata": {
        "id": "pOd0YHnm7nju"
      },
      "execution_count": null,
      "outputs": []
    },
    {
      "cell_type": "code",
      "source": [
        "trn,test,y_trn,y_test = train_test_split(data.data, data.target, test_size=0.2)"
      ],
      "metadata": {
        "id": "JVV6CSnz7xvR"
      },
      "execution_count": null,
      "outputs": []
    },
    {
      "cell_type": "code",
      "source": [
        "print(data.DESCR)"
      ],
      "metadata": {
        "id": "LT_CUDmC7y51",
        "colab": {
          "base_uri": "https://localhost:8080/"
        },
        "outputId": "66eda2e3-22f3-428e-a525-a29fde98b2e1"
      },
      "execution_count": 10,
      "outputs": [
        {
          "output_type": "stream",
          "name": "stdout",
          "text": [
            ".. _diabetes_dataset:\n",
            "\n",
            "Diabetes dataset\n",
            "----------------\n",
            "\n",
            "Ten baseline variables, age, sex, body mass index, average blood\n",
            "pressure, and six blood serum measurements were obtained for each of n =\n",
            "442 diabetes patients, as well as the response of interest, a\n",
            "quantitative measure of disease progression one year after baseline.\n",
            "\n",
            "**Data Set Characteristics:**\n",
            "\n",
            "  :Number of Instances: 442\n",
            "\n",
            "  :Number of Attributes: First 10 columns are numeric predictive values\n",
            "\n",
            "  :Target: Column 11 is a quantitative measure of disease progression one year after baseline\n",
            "\n",
            "  :Attribute Information:\n",
            "      - age     age in years\n",
            "      - sex\n",
            "      - bmi     body mass index\n",
            "      - bp      average blood pressure\n",
            "      - s1      tc, total serum cholesterol\n",
            "      - s2      ldl, low-density lipoproteins\n",
            "      - s3      hdl, high-density lipoproteins\n",
            "      - s4      tch, total cholesterol / HDL\n",
            "      - s5      ltg, possibly log of serum triglycerides level\n",
            "      - s6      glu, blood sugar level\n",
            "\n",
            "Note: Each of these 10 feature variables have been mean centered and scaled by the standard deviation times `n_samples` (i.e. the sum of squares of each column totals 1).\n",
            "\n",
            "Source URL:\n",
            "https://www4.stat.ncsu.edu/~boos/var.select/diabetes.html\n",
            "\n",
            "For more information see:\n",
            "Bradley Efron, Trevor Hastie, Iain Johnstone and Robert Tibshirani (2004) \"Least Angle Regression,\" Annals of Statistics (with discussion), 407-499.\n",
            "(https://web.stanford.edu/~hastie/Papers/LARS/LeastAngle_2002.pdf)\n"
          ]
        }
      ]
    },
    {
      "cell_type": "code",
      "source": [
        "np.mean(data.target)"
      ],
      "metadata": {
        "colab": {
          "base_uri": "https://localhost:8080/"
        },
        "id": "SP8AB3MlKMl-",
        "outputId": "8be3f945-2781-4b56-d162-287824ff6ae4"
      },
      "execution_count": 12,
      "outputs": [
        {
          "output_type": "execute_result",
          "data": {
            "text/plain": [
              "152.13348416289594"
            ]
          },
          "metadata": {},
          "execution_count": 12
        }
      ]
    },
    {
      "cell_type": "markdown",
      "metadata": {
        "id": "QGob2K9t79kT"
      },
      "source": [
        "<div class=\"alert alert-block alert-info\">\n",
        "5. CASOS DE USO\n",
        "</div>"
      ]
    },
    {
      "cell_type": "markdown",
      "metadata": {
        "id": "POQLTLby79kU"
      },
      "source": [
        "Nessa seção, você aplicará sua implementação em pelo menos dois casos: um é o caso descrito nas referências, e outro, um caso similar que você encontrará e testará sua implementação. __Cuidado para evitar casos iguais aos demais colegas!__"
      ]
    }
  ],
  "metadata": {
    "kernelspec": {
      "display_name": "Python 3",
      "language": "python",
      "name": "python3"
    },
    "language_info": {
      "codemirror_mode": {
        "name": "ipython",
        "version": 3
      },
      "file_extension": ".py",
      "mimetype": "text/x-python",
      "name": "python",
      "nbconvert_exporter": "python",
      "pygments_lexer": "ipython3",
      "version": "3.8.5"
    },
    "colab": {
      "name": "Regressão Linear.ipynb",
      "provenance": []
    }
  },
  "nbformat": 4,
  "nbformat_minor": 0
}