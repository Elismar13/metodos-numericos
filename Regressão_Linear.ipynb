{
  "cells": [
    {
      "cell_type": "markdown",
      "metadata": {
        "id": "-pQM7z5W79kG"
      },
      "source": [
        "# <center>__MÉTODOS NUMÉRICOS__</center>\n",
        "## <center>__PROJETO DA UNIDADE 2__</center>\n",
        "\n",
        "#### <center>__ALUNO: Elismar Silva Pereira__</center>"
      ]
    },
    {
      "cell_type": "markdown",
      "metadata": {
        "id": "rekCYoRs79kJ"
      },
      "source": [
        "<div class=\"alert alert-block alert-info\">\n",
        "1. INTRODUÇÃO\n",
        "</div>"
      ]
    },
    {
      "cell_type": "markdown",
      "metadata": {
        "id": "ZOhvvU6L79kL"
      },
      "source": [
        "\n",
        "Neste trabalho será apresentado o conceito da regressão linear, visando apresentar a teoria, o problema a ser solucionado, diferentes abordagens para a construção do algoritmo e seus respectivos comportamentos, exemplos práticos e aplicações reais. Por fim será apresentado as conclusões e resultados obtidos ao utilizar esta abordagem para resolver problemas reais, de forma a expor a importância do estudo do tema abordado.\n",
        "\n",
        "A regressão linear surgiu no ramo da estatística e tem como objetivo modelar a relação entre uma resposta escalar e uma ou mais variáveis ​​​dependentes e independentes). Por conta desta característica, a regressão linear passou a ser adotada no sub-ramo da inteligência artificial, o Machine Learning, e hoje o algoritmo é considerado como fundamental nos modelos supervisionados de machine learning, por conta de sua simplicidade e propriedades bem difundidas.\n",
        "\n",
        "Alguns exemplos de aplicações reais consiste em: Estimação de gastos com combustíveis, entendimento da relação entre entre a dosagem do medicamento e a pressão arterial dos pacientes, medição do efeito de fertilizantes e água no rendimento das cultivas,  dentre outros vários outros problemas do dia a dia que podem ser resolvidos, estimados e descritos. Como exemplo prático deste trabalho, a regressão linear será utilizada para predição de dados de saúde.\n"
      ]
    },
    {
      "cell_type": "markdown",
      "metadata": {
        "id": "apy9xjoU79kM"
      },
      "source": [
        "<div class=\"alert alert-block alert-info\">\n",
        "2. DESCRIÇÃO DO PROBLEMA\n",
        "</div>"
      ]
    },
    {
      "cell_type": "markdown",
      "metadata": {
        "id": "MfhV2Kuq79kN"
      },
      "source": [
        "  A diabetes é uma doença cronica caracterizada pelo aumento dos níveis de açúcar no sangue, o que pode provocar danos em vários órgãos, se não for tratado. O número de casos de pessoas com diabetes vem crescendo nos últimos anos, tornando-se um ponto de atenção para a sociedade, por conta de suas consequências e complicações. A diabetes apresentam diferentes níveis, tendo como processo de diagnostico um série de medições de diversas substancias do corpo humano, como por exemplo a insulina e a glicemia, resultando assim em um índice o qual determina se a pessoa possui ou não diabetes. \n",
        "\n",
        "  A prevenção da diabetes é um ponto importante para as pessoas, principalmente para os mais velhos, apesar de que os jovens não estão imunes a doença, o que torna o processo de prevenção necessário e muito importante para evitar as complicações. "
      ]
    },
    {
      "cell_type": "markdown",
      "metadata": {
        "id": "ZCPJ687C79kP"
      },
      "source": [
        "<div class=\"alert alert-block alert-info\">\n",
        "3. MÉTODOS APLICADOS À SOLUÇÃO\n",
        "</div>"
      ]
    },
    {
      "cell_type": "markdown",
      "metadata": {
        "id": "SNx6Jp0t79kP"
      },
      "source": [
        "Neste trabalho será abordados os seguintes métodos:\n",
        "\n",
        "* Algoritmos para encontrar a solução dos mínimos quadrados:\n",
        "  * Método Cholesky:\n",
        "    * Consistem em um método o qual pode ser aplicado em uma matriz A que tem posto completo, a sua pseudo-inversa é uma matriz definida positiva quadrada hermitiana. \n",
        "    * é considerado instável em alguns casos, principalmente em aplicações com grandes matrizes. Não é recomendado o uso no geral.\n",
        "    * Equação:\n",
        "\n",
        "      ![equacao_Cholesky](data/Cholesky.png)\n",
        "\n",
        "  * Método fatorização QR: \n",
        "    * Aplicação similar ao método Cholesky. Resulta em uma sistema triangular superior que basta ser resolvido para obter o resultado. \n",
        "    * É um pouco mais lento que o método Cholesky, mas é mais estável e menos suscetível a erros.  \n",
        "\n",
        "      ![QR](data/QR.png)\n",
        "\n",
        "  * Método fatorização SVD (Singular Value Decomposition ou Decomposição em Valores Singulares): \n",
        "    * Aplicação similar ao método Cholesky. Resulta em uma sistema triangular superior que basta ser resolvido para obter o resultado. \n",
        "    * É um pouco mais lento que o método Cholesky, mas é mais estável e menos suscetível a erros. \n",
        "    * Equação:\n",
        "    \n",
        "      ![SVD](data/SVD.png)\n",
        "* Erro Quadrático Médio (Mean squared error):\n",
        "  * Podemos encontrar o erro de um sistema a partir deste mecanismo.\n",
        " "
      ]
    },
    {
      "cell_type": "markdown",
      "metadata": {
        "id": "bMH8IJXU79kQ"
      },
      "source": [
        "<div class=\"alert alert-block alert-info\">\n",
        "4. IMPLEMENTAÇÃO\n",
        "</div>"
      ]
    },
    {
      "cell_type": "markdown",
      "source": [
        "Nesta etapa será demonstrado uma implementação da regressão linear para predição de diabetes. Para isto as seguintes bibliotecas e seus repectivos módulos serão utilizados:\n",
        "\n",
        "- Numpy\n",
        "- sklearn\n",
        "\n",
        "Como primeiro passo iremos importar as bibliotecas mencionadas."
      ],
      "metadata": {
        "id": "lzXhNcDmU0t0"
      }
    },
    {
      "cell_type": "code",
      "source": [
        "from sklearn import datasets, linear_model, metrics\n",
        "from sklearn.model_selection import train_test_split\n",
        "from sklearn.preprocessing import PolynomialFeatures\n",
        "import math, scipy, numpy as np\n",
        "from scipy import linalg"
      ],
      "metadata": {
        "id": "_NTav8nN5HZC"
      },
      "execution_count": 1,
      "outputs": []
    },
    {
      "cell_type": "markdown",
      "source": [
        "Em seguida um dos datasets exemplos da biblioteca *sklearn* será carregado, mais especificamente o dataset das diabetes. Ao analisar as informações do dataset a partir da chamada do atributo que contém uma breve descrição da estrutura do dataset (*DESCR*), podemos observar que:\n"
      ],
      "metadata": {
        "id": "dI7e0NtvbnxX"
      }
    },
    {
      "cell_type": "code",
      "source": [
        "data = datasets.load_diabetes()"
      ],
      "metadata": {
        "id": "8-3Rl-Td7jkc"
      },
      "execution_count": 2,
      "outputs": []
    },
    {
      "cell_type": "code",
      "source": [
        "print(data.DESCR)"
      ],
      "metadata": {
        "colab": {
          "base_uri": "https://localhost:8080/"
        },
        "id": "NN_k435zcrMJ",
        "outputId": "fdf94830-7fe8-422c-f05a-997387149716"
      },
      "execution_count": 3,
      "outputs": [
        {
          "output_type": "stream",
          "name": "stdout",
          "text": [
            ".. _diabetes_dataset:\n",
            "\n",
            "Diabetes dataset\n",
            "----------------\n",
            "\n",
            "Ten baseline variables, age, sex, body mass index, average blood\n",
            "pressure, and six blood serum measurements were obtained for each of n =\n",
            "442 diabetes patients, as well as the response of interest, a\n",
            "quantitative measure of disease progression one year after baseline.\n",
            "\n",
            "**Data Set Characteristics:**\n",
            "\n",
            "  :Number of Instances: 442\n",
            "\n",
            "  :Number of Attributes: First 10 columns are numeric predictive values\n",
            "\n",
            "  :Target: Column 11 is a quantitative measure of disease progression one year after baseline\n",
            "\n",
            "  :Attribute Information:\n",
            "      - age     age in years\n",
            "      - sex\n",
            "      - bmi     body mass index\n",
            "      - bp      average blood pressure\n",
            "      - s1      tc, total serum cholesterol\n",
            "      - s2      ldl, low-density lipoproteins\n",
            "      - s3      hdl, high-density lipoproteins\n",
            "      - s4      tch, total cholesterol / HDL\n",
            "      - s5      ltg, possibly log of serum triglycerides level\n",
            "      - s6      glu, blood sugar level\n",
            "\n",
            "Note: Each of these 10 feature variables have been mean centered and scaled by the standard deviation times `n_samples` (i.e. the sum of squares of each column totals 1).\n",
            "\n",
            "Source URL:\n",
            "https://www4.stat.ncsu.edu/~boos/var.select/diabetes.html\n",
            "\n",
            "For more information see:\n",
            "Bradley Efron, Trevor Hastie, Iain Johnstone and Robert Tibshirani (2004) \"Least Angle Regression,\" Annals of Statistics (with discussion), 407-499.\n",
            "(https://web.stanford.edu/~hastie/Papers/LARS/LeastAngle_2002.pdf)\n"
          ]
        }
      ]
    },
    {
      "cell_type": "markdown",
      "source": [
        "Podemos perceber as caractecteristicas do dataset, tais como: quantidade de linhas, qual coluna apresenta a medida da progressão da doença em um ano, a descrição de cada coluna, informações adicionais, etc."
      ],
      "metadata": {
        "id": "vUHXiIWdcu4h"
      }
    },
    {
      "cell_type": "markdown",
      "source": [
        "Com o conhecimento das informações necessárias, podemos começar o processo de separaçã de dados e treinamento do modelo de regressão linear. Primeiramente iremos separar os dados de treinamento e testes, usando a função *train_test_split* do sklearn."
      ],
      "metadata": {
        "id": "iOeGPohXohyW"
      }
    },
    {
      "cell_type": "code",
      "source": [
        "feature_names=['age', 'sex', 'bmi', 'bp', 's1', 's2', 's3', 's4', 's5', 's6']"
      ],
      "metadata": {
        "id": "pOd0YHnm7nju"
      },
      "execution_count": 4,
      "outputs": []
    },
    {
      "cell_type": "code",
      "source": [
        "trn,test,y_trn,y_test = train_test_split(data.data, data.target, test_size=0.2)"
      ],
      "metadata": {
        "id": "JVV6CSnz7xvR"
      },
      "execution_count": 5,
      "outputs": []
    },
    {
      "cell_type": "code",
      "source": [
        "trn.shape, test.shape"
      ],
      "metadata": {
        "id": "LT_CUDmC7y51",
        "colab": {
          "base_uri": "https://localhost:8080/"
        },
        "outputId": "52d70d6a-3b6d-43c8-9b13-247507b541f3"
      },
      "execution_count": 6,
      "outputs": [
        {
          "output_type": "execute_result",
          "data": {
            "text/plain": [
              "((353, 10), (89, 10))"
            ]
          },
          "metadata": {},
          "execution_count": 6
        }
      ]
    },
    {
      "cell_type": "markdown",
      "source": [
        "Em seguida criaremos o modelo de regressão linear. Para isto usarei a implementação da biblioteca sklearn.linear_model."
      ],
      "metadata": {
        "id": "4ouVYgY9rnzT"
      }
    },
    {
      "cell_type": "code",
      "source": [
        "from sklearn.linear_model import LinearRegression\n",
        "model = LinearRegression()"
      ],
      "metadata": {
        "id": "2iufY1LrrnP2"
      },
      "execution_count": 7,
      "outputs": []
    },
    {
      "cell_type": "markdown",
      "source": [
        "O próximo passo será treinar o modelo. Para isto usaremos as seguintes variáveis:\n",
        "\n",
        "* **Variável independente: train_x**\n",
        "*  **Variável Dependente: train_y ,**"
      ],
      "metadata": {
        "id": "VmxpYaCksJOy"
      }
    },
    {
      "cell_type": "code",
      "source": [
        "model.fit(trn, y_trn)"
      ],
      "metadata": {
        "colab": {
          "base_uri": "https://localhost:8080/"
        },
        "id": "i_7B8MZAsdx1",
        "outputId": "880762a7-f4ca-414a-bd96-43058192b78b"
      },
      "execution_count": 8,
      "outputs": [
        {
          "output_type": "execute_result",
          "data": {
            "text/plain": [
              "LinearRegression()"
            ]
          },
          "metadata": {},
          "execution_count": 8
        }
      ]
    },
    {
      "cell_type": "markdown",
      "source": [
        "Com o modelo treinado, agora é hora de realizar a predição das linhas separadas para testes."
      ],
      "metadata": {
        "id": "S6QtOmuFs1Lc"
      }
    },
    {
      "cell_type": "code",
      "source": [
        "model.predict(test)"
      ],
      "metadata": {
        "colab": {
          "base_uri": "https://localhost:8080/"
        },
        "id": "pcOPphVysz17",
        "outputId": "2a9498f8-b91e-4c5f-ed2b-428599fc8792"
      },
      "execution_count": 9,
      "outputs": [
        {
          "output_type": "execute_result",
          "data": {
            "text/plain": [
              "array([121.866653  , 114.0474459 , 248.84761935, 147.68316083,\n",
              "       132.0218736 , 193.86553435,  68.71252861, 110.60086128,\n",
              "       149.89585712,  92.09151099, 101.5469942 , 140.04151839,\n",
              "       178.66634839,  98.82511583, 243.97227886, 203.35488225,\n",
              "        59.76163156,  68.87710218, 128.23718538, 161.29826897,\n",
              "        95.79625346, 120.61020704, 156.71374599,  73.64707191,\n",
              "       111.13108747, 202.33917028, 119.88991868, 114.53246554,\n",
              "       161.17502756, 201.24424661,  78.657335  ,  96.79517846,\n",
              "       118.51873689, 183.99071929,  94.81495761, 231.01623835,\n",
              "        56.13743383, 245.42027182, 218.23179073,  59.97995778,\n",
              "       226.12098046, 245.65883673, 284.60615228,  51.57007321,\n",
              "        59.91178496, 182.88707966,  75.99360894, 161.10470561,\n",
              "       139.7808941 , 168.8859537 ,  81.00898103,  61.86547113,\n",
              "        89.52073109, 212.42466369, 148.7406806 , 220.40463593,\n",
              "       174.38299089, 229.02282528, 126.2525694 , 214.82658148,\n",
              "       259.07852091, 146.38291665, 193.76824044, 157.86123417,\n",
              "       109.84101747, 161.6763803 , 183.78458268, 155.69762221,\n",
              "       127.6141054 ,  71.52226273, 216.56254621, 137.16222225,\n",
              "        96.14224317, 212.377284  , 120.67033266, 171.90712852,\n",
              "       183.77749856, 188.31340275,  92.47688523,  76.92266636,\n",
              "       181.56287602, 166.08012571, 209.62587436, 220.73750329,\n",
              "        94.28472571, 203.1268896 , 170.45414058,  68.28929897,\n",
              "       220.9096248 ])"
            ]
          },
          "metadata": {},
          "execution_count": 9
        }
      ]
    },
    {
      "cell_type": "markdown",
      "source": [
        "Por fim iremos calcular o erro absoluto médio e o erro quadrático médio:"
      ],
      "metadata": {
        "id": "IUDjlBIXtEoN"
      }
    },
    {
      "cell_type": "code",
      "source": [
        "def regr_metrics(act, pred):\n",
        "    return (math.sqrt(metrics.mean_squared_error(act, pred)), \n",
        "     metrics.mean_absolute_error(act, pred))"
      ],
      "metadata": {
        "id": "1-Xzqv5ktBKs"
      },
      "execution_count": 10,
      "outputs": []
    },
    {
      "cell_type": "code",
      "source": [
        "mean_squared_error, mean_absolute_error = regr_metrics(y_test, model.predict(test))\n",
        "print(f\"Erro quadrático médio: {mean_squared_error}; Erro absoluto médio: {mean_absolute_error}\")"
      ],
      "metadata": {
        "colab": {
          "base_uri": "https://localhost:8080/"
        },
        "id": "Fm_XIGKUtIRI",
        "outputId": "6be7f685-b824-4d13-d90c-4174b6b60f4f"
      },
      "execution_count": 11,
      "outputs": [
        {
          "output_type": "stream",
          "name": "stdout",
          "text": [
            "Erro quadrático médio: 56.81015740086425; Erro absoluto médio: 47.91666218240885\n"
          ]
        }
      ]
    },
    {
      "cell_type": "markdown",
      "metadata": {
        "id": "QGob2K9t79kT"
      },
      "source": [
        "<div class=\"alert alert-block alert-info\">\n",
        "5. CASOS DE USO\n",
        "</div>"
      ]
    },
    {
      "cell_type": "markdown",
      "metadata": {
        "id": "POQLTLby79kU"
      },
      "source": [
        "**Exemplo prático 1**:\n",
        "\n",
        "Agora aplicando os conhecimentos dos tópicos anteriores em um novo problema: Seria possível prever e estimar o valor de venda dos carros tesla, tendo em consideração resultado já alcançados em diferentes períodos de venda?\n",
        "\n",
        "Resposta: É impossível prever o futoro. Mas, podemos estimar valores com o uso de modelos matemáticos, de forma a gerar expectativas de vendas."
      ]
    },
    {
      "cell_type": "markdown",
      "source": [
        "Para realizar esta abordagem, as seguintes biliotecas serão utilizadas:\n",
        "\n",
        "* Numpy - para processamento de dados, algebra linear, etc.\n",
        "* Pandas - para representação dos dados.\n",
        "* Sklearn - para separação de dados e aplicação da regressão linear.\n",
        "* Matplotlib - para vizualização dos dados."
      ],
      "metadata": {
        "id": "Fgb2K0yYwTRr"
      }
    },
    {
      "cell_type": "code",
      "source": [
        "import pandas as pd\n",
        "import matplotlib.pyplot as plt"
      ],
      "metadata": {
        "id": "p7B1a_S1w7DE"
      },
      "execution_count": 12,
      "outputs": []
    },
    {
      "cell_type": "markdown",
      "source": [
        "Primeiramente irei importar o dataset disponível no seguinte link: https://raw.githubusercontent.com/alpharithms/data/main/TSLA.csv"
      ],
      "metadata": {
        "id": "hM90DiJev7-k"
      }
    },
    {
      "cell_type": "code",
      "source": [
        "DATASET_LOCATION = \"https://raw.githubusercontent.com/alpharithms/data/main/TSLA.csv\"\n",
        "df = pd.read_csv(DATASET_LOCATION)"
      ],
      "metadata": {
        "id": "Vx54myVtxSbT"
      },
      "execution_count": 13,
      "outputs": []
    },
    {
      "cell_type": "markdown",
      "source": [
        "Resumo do dataset:"
      ],
      "metadata": {
        "id": "ll5nWzl2xqQK"
      }
    },
    {
      "cell_type": "code",
      "source": [
        "print(df.describe())"
      ],
      "metadata": {
        "colab": {
          "base_uri": "https://localhost:8080/"
        },
        "id": "_kdYHLvhxbIi",
        "outputId": "4e7e6e83-e1bd-47d2-c200-1bb4c9f294a8"
      },
      "execution_count": 14,
      "outputs": [
        {
          "output_type": "stream",
          "name": "stdout",
          "text": [
            "             Open        High         Low       Close   Adj Close  \\\n",
            "count  253.000000  253.000000  253.000000  253.000000  253.000000   \n",
            "mean   289.108428  297.288412  280.697937  289.997067  289.997067   \n",
            "std    167.665389  171.702889  163.350196  168.995613  168.995613   \n",
            "min     74.940002   80.972000   70.101997   72.244003   72.244003   \n",
            "25%    148.367996  154.990005  143.222000  149.792007  149.792007   \n",
            "50%    244.296005  245.600006  237.119995  241.731995  241.731995   \n",
            "75%    421.390015  430.500000  410.579987  421.200012  421.200012   \n",
            "max    699.989990  718.719971  691.119995  705.669983  705.669983   \n",
            "\n",
            "             Volume  \n",
            "count  2.530000e+02  \n",
            "mean   7.530795e+07  \n",
            "std    4.013706e+07  \n",
            "min    1.735770e+07  \n",
            "25%    4.713450e+07  \n",
            "50%    7.025550e+07  \n",
            "75%    9.454550e+07  \n",
            "max    3.046940e+08  \n"
          ]
        }
      ]
    },
    {
      "cell_type": "markdown",
      "source": [
        "Filtragem de colunas e dados não utilizados no momento:"
      ],
      "metadata": {
        "id": "BPWQypIDxyVV"
      }
    },
    {
      "cell_type": "code",
      "source": [
        "df.set_index(pd.DatetimeIndex(df['Date']), inplace=True)"
      ],
      "metadata": {
        "id": "T9XVnTNYxx0N"
      },
      "execution_count": 15,
      "outputs": []
    },
    {
      "cell_type": "code",
      "source": [
        "df = df[['Adj Close']]"
      ],
      "metadata": {
        "id": "vl5SDLSqx2hB"
      },
      "execution_count": 16,
      "outputs": []
    },
    {
      "cell_type": "code",
      "source": [
        "print(df)"
      ],
      "metadata": {
        "colab": {
          "base_uri": "https://localhost:8080/"
        },
        "id": "r_FWfkIQx4Wf",
        "outputId": "2d78d27d-c895-470a-b946-417f01e18798"
      },
      "execution_count": 17,
      "outputs": [
        {
          "output_type": "stream",
          "name": "stdout",
          "text": [
            "             Adj Close\n",
            "Date                  \n",
            "2020-01-02   86.052002\n",
            "2020-01-03   88.601997\n",
            "2020-01-06   90.307999\n",
            "2020-01-07   93.811996\n",
            "2020-01-08   98.428001\n",
            "...                ...\n",
            "2020-12-24  661.770020\n",
            "2020-12-28  663.690002\n",
            "2020-12-29  665.989990\n",
            "2020-12-30  694.780029\n",
            "2020-12-31  705.669983\n",
            "\n",
            "[253 rows x 1 columns]\n"
          ]
        }
      ]
    },
    {
      "cell_type": "markdown",
      "source": [
        " Em seguida criaremos uma coluna que armazenará a MME, um tipo de média móvel (MA) que coloca um peso e uma significância maiores nos pontos de dados mais recentes, esta muito utilizada no sertor de investimentos."
      ],
      "metadata": {
        "id": "b4cizoXjyOW7"
      }
    },
    {
      "cell_type": "markdown",
      "source": [
        "FORMULA DA MME"
      ],
      "metadata": {
        "id": "jliK50qHy7Cs"
      }
    },
    {
      "cell_type": "markdown",
      "source": [
        "Para realizar este calculo, farei uso da biblioteca *pandas_ta*, uma extensão da bilioteca Pandas que contém diversos indicadores e suas respectivas funções para realizar esse trabalho."
      ],
      "metadata": {
        "id": "K1QNEg2vy9Dz"
      }
    },
    {
      "cell_type": "code",
      "source": [
        "!pip install pandas_ta"
      ],
      "metadata": {
        "colab": {
          "base_uri": "https://localhost:8080/"
        },
        "id": "VeU-qvXczm30",
        "outputId": "daf29163-8c6d-4e0f-dbbf-b727494ec05b"
      },
      "execution_count": 18,
      "outputs": [
        {
          "output_type": "stream",
          "name": "stdout",
          "text": [
            "Collecting pandas_ta\n",
            "  Downloading pandas_ta-0.3.14b.tar.gz (115 kB)\n",
            "\u001b[?25l\r\u001b[K     |██▉                             | 10 kB 19.7 MB/s eta 0:00:01\r\u001b[K     |█████▊                          | 20 kB 26.2 MB/s eta 0:00:01\r\u001b[K     |████████▌                       | 30 kB 13.6 MB/s eta 0:00:01\r\u001b[K     |███████████▍                    | 40 kB 10.0 MB/s eta 0:00:01\r\u001b[K     |██████████████▎                 | 51 kB 6.4 MB/s eta 0:00:01\r\u001b[K     |█████████████████               | 61 kB 7.5 MB/s eta 0:00:01\r\u001b[K     |████████████████████            | 71 kB 7.4 MB/s eta 0:00:01\r\u001b[K     |██████████████████████▊         | 81 kB 6.8 MB/s eta 0:00:01\r\u001b[K     |█████████████████████████▋      | 92 kB 7.5 MB/s eta 0:00:01\r\u001b[K     |████████████████████████████▌   | 102 kB 8.2 MB/s eta 0:00:01\r\u001b[K     |███████████████████████████████▎| 112 kB 8.2 MB/s eta 0:00:01\r\u001b[K     |████████████████████████████████| 115 kB 8.2 MB/s \n",
            "\u001b[?25hRequirement already satisfied: pandas in /usr/local/lib/python3.7/dist-packages (from pandas_ta) (1.3.5)\n",
            "Requirement already satisfied: numpy>=1.17.3 in /usr/local/lib/python3.7/dist-packages (from pandas->pandas_ta) (1.21.5)\n",
            "Requirement already satisfied: pytz>=2017.3 in /usr/local/lib/python3.7/dist-packages (from pandas->pandas_ta) (2018.9)\n",
            "Requirement already satisfied: python-dateutil>=2.7.3 in /usr/local/lib/python3.7/dist-packages (from pandas->pandas_ta) (2.8.2)\n",
            "Requirement already satisfied: six>=1.5 in /usr/local/lib/python3.7/dist-packages (from python-dateutil>=2.7.3->pandas->pandas_ta) (1.15.0)\n",
            "Building wheels for collected packages: pandas-ta\n",
            "  Building wheel for pandas-ta (setup.py) ... \u001b[?25l\u001b[?25hdone\n",
            "  Created wheel for pandas-ta: filename=pandas_ta-0.3.14b0-py3-none-any.whl size=218923 sha256=b9ba22886ad0703395db82ad46084f521f1f6b61fb54bcef7796705bbe70a48c\n",
            "  Stored in directory: /root/.cache/pip/wheels/0b/81/f0/cca85757840e4616a2c6b9fe12569d97d324c27cac60724c58\n",
            "Successfully built pandas-ta\n",
            "Installing collected packages: pandas-ta\n",
            "Successfully installed pandas-ta-0.3.14b0\n"
          ]
        }
      ]
    },
    {
      "cell_type": "code",
      "source": [
        "import pandas_ta"
      ],
      "metadata": {
        "id": "Tl-uly3Ky8zJ"
      },
      "execution_count": 19,
      "outputs": []
    },
    {
      "cell_type": "code",
      "source": [
        "df.ta.ema(close='Adj Close', length=10, append=True)"
      ],
      "metadata": {
        "colab": {
          "base_uri": "https://localhost:8080/"
        },
        "id": "U5wIZEFdzvpb",
        "outputId": "eac63255-1d7b-4716-bae7-458a19cdfe7e"
      },
      "execution_count": 20,
      "outputs": [
        {
          "output_type": "execute_result",
          "data": {
            "text/plain": [
              "Date\n",
              "2020-01-02           NaN\n",
              "2020-01-03           NaN\n",
              "2020-01-06           NaN\n",
              "2020-01-07           NaN\n",
              "2020-01-08           NaN\n",
              "                 ...    \n",
              "2020-12-24    643.572394\n",
              "2020-12-28    647.230141\n",
              "2020-12-29    650.641022\n",
              "2020-12-30    658.666296\n",
              "2020-12-31    667.212421\n",
              "Name: EMA_10, Length: 253, dtype: float64"
            ]
          },
          "metadata": {},
          "execution_count": 20
        }
      ]
    },
    {
      "cell_type": "markdown",
      "source": [
        "Podemos verificar a nova estrutura do DataFrame:"
      ],
      "metadata": {
        "id": "RChnp6oTz-vN"
      }
    },
    {
      "cell_type": "code",
      "source": [
        "print(df.head(10))\n"
      ],
      "metadata": {
        "colab": {
          "base_uri": "https://localhost:8080/"
        },
        "id": "wF3c4N3u0B98",
        "outputId": "b13872cd-4942-4970-eb60-b80e55806435"
      },
      "execution_count": 21,
      "outputs": [
        {
          "output_type": "stream",
          "name": "stdout",
          "text": [
            "             Adj Close     EMA_10\n",
            "Date                             \n",
            "2020-01-02   86.052002        NaN\n",
            "2020-01-03   88.601997        NaN\n",
            "2020-01-06   90.307999        NaN\n",
            "2020-01-07   93.811996        NaN\n",
            "2020-01-08   98.428001        NaN\n",
            "2020-01-09   96.267998        NaN\n",
            "2020-01-10   95.629997        NaN\n",
            "2020-01-13  104.972000        NaN\n",
            "2020-01-14  107.584000        NaN\n",
            "2020-01-15  103.699997  96.535599\n"
          ]
        }
      ]
    },
    {
      "cell_type": "markdown",
      "source": [
        "Existe linhas com valores não numéricos (NaN), para contornar esse problema irei fazer um pequeno filtro para remover estas linhas inválidas."
      ],
      "metadata": {
        "id": "tv027HoZ0FLG"
      }
    },
    {
      "cell_type": "code",
      "source": [
        "df = df.dropna()\n",
        "df.head(10)"
      ],
      "metadata": {
        "colab": {
          "base_uri": "https://localhost:8080/",
          "height": 395
        },
        "id": "icfvL88E0chW",
        "outputId": "600e40c3-a5f4-44a1-9e4a-1ff104111b8e"
      },
      "execution_count": 22,
      "outputs": [
        {
          "output_type": "execute_result",
          "data": {
            "text/plain": [
              "             Adj Close      EMA_10\n",
              "Date                              \n",
              "2020-01-15  103.699997   96.535599\n",
              "2020-01-16  102.697998   97.656035\n",
              "2020-01-17  102.099998   98.464028\n",
              "2020-01-21  109.440002  100.459660\n",
              "2020-01-22  113.912003  102.905540\n",
              "2020-01-23  114.440002  105.002715\n",
              "2020-01-24  112.963997  106.450221\n",
              "2020-01-27  111.603996  107.387271\n",
              "2020-01-28  113.379997  108.476858\n",
              "2020-01-29  116.197998  109.880701"
            ],
            "text/html": [
              "\n",
              "  <div id=\"df-cecd99d1-2ede-4d23-b3ff-9b25a2bc3353\">\n",
              "    <div class=\"colab-df-container\">\n",
              "      <div>\n",
              "<style scoped>\n",
              "    .dataframe tbody tr th:only-of-type {\n",
              "        vertical-align: middle;\n",
              "    }\n",
              "\n",
              "    .dataframe tbody tr th {\n",
              "        vertical-align: top;\n",
              "    }\n",
              "\n",
              "    .dataframe thead th {\n",
              "        text-align: right;\n",
              "    }\n",
              "</style>\n",
              "<table border=\"1\" class=\"dataframe\">\n",
              "  <thead>\n",
              "    <tr style=\"text-align: right;\">\n",
              "      <th></th>\n",
              "      <th>Adj Close</th>\n",
              "      <th>EMA_10</th>\n",
              "    </tr>\n",
              "    <tr>\n",
              "      <th>Date</th>\n",
              "      <th></th>\n",
              "      <th></th>\n",
              "    </tr>\n",
              "  </thead>\n",
              "  <tbody>\n",
              "    <tr>\n",
              "      <th>2020-01-15</th>\n",
              "      <td>103.699997</td>\n",
              "      <td>96.535599</td>\n",
              "    </tr>\n",
              "    <tr>\n",
              "      <th>2020-01-16</th>\n",
              "      <td>102.697998</td>\n",
              "      <td>97.656035</td>\n",
              "    </tr>\n",
              "    <tr>\n",
              "      <th>2020-01-17</th>\n",
              "      <td>102.099998</td>\n",
              "      <td>98.464028</td>\n",
              "    </tr>\n",
              "    <tr>\n",
              "      <th>2020-01-21</th>\n",
              "      <td>109.440002</td>\n",
              "      <td>100.459660</td>\n",
              "    </tr>\n",
              "    <tr>\n",
              "      <th>2020-01-22</th>\n",
              "      <td>113.912003</td>\n",
              "      <td>102.905540</td>\n",
              "    </tr>\n",
              "    <tr>\n",
              "      <th>2020-01-23</th>\n",
              "      <td>114.440002</td>\n",
              "      <td>105.002715</td>\n",
              "    </tr>\n",
              "    <tr>\n",
              "      <th>2020-01-24</th>\n",
              "      <td>112.963997</td>\n",
              "      <td>106.450221</td>\n",
              "    </tr>\n",
              "    <tr>\n",
              "      <th>2020-01-27</th>\n",
              "      <td>111.603996</td>\n",
              "      <td>107.387271</td>\n",
              "    </tr>\n",
              "    <tr>\n",
              "      <th>2020-01-28</th>\n",
              "      <td>113.379997</td>\n",
              "      <td>108.476858</td>\n",
              "    </tr>\n",
              "    <tr>\n",
              "      <th>2020-01-29</th>\n",
              "      <td>116.197998</td>\n",
              "      <td>109.880701</td>\n",
              "    </tr>\n",
              "  </tbody>\n",
              "</table>\n",
              "</div>\n",
              "      <button class=\"colab-df-convert\" onclick=\"convertToInteractive('df-cecd99d1-2ede-4d23-b3ff-9b25a2bc3353')\"\n",
              "              title=\"Convert this dataframe to an interactive table.\"\n",
              "              style=\"display:none;\">\n",
              "        \n",
              "  <svg xmlns=\"http://www.w3.org/2000/svg\" height=\"24px\"viewBox=\"0 0 24 24\"\n",
              "       width=\"24px\">\n",
              "    <path d=\"M0 0h24v24H0V0z\" fill=\"none\"/>\n",
              "    <path d=\"M18.56 5.44l.94 2.06.94-2.06 2.06-.94-2.06-.94-.94-2.06-.94 2.06-2.06.94zm-11 1L8.5 8.5l.94-2.06 2.06-.94-2.06-.94L8.5 2.5l-.94 2.06-2.06.94zm10 10l.94 2.06.94-2.06 2.06-.94-2.06-.94-.94-2.06-.94 2.06-2.06.94z\"/><path d=\"M17.41 7.96l-1.37-1.37c-.4-.4-.92-.59-1.43-.59-.52 0-1.04.2-1.43.59L10.3 9.45l-7.72 7.72c-.78.78-.78 2.05 0 2.83L4 21.41c.39.39.9.59 1.41.59.51 0 1.02-.2 1.41-.59l7.78-7.78 2.81-2.81c.8-.78.8-2.07 0-2.86zM5.41 20L4 18.59l7.72-7.72 1.47 1.35L5.41 20z\"/>\n",
              "  </svg>\n",
              "      </button>\n",
              "      \n",
              "  <style>\n",
              "    .colab-df-container {\n",
              "      display:flex;\n",
              "      flex-wrap:wrap;\n",
              "      gap: 12px;\n",
              "    }\n",
              "\n",
              "    .colab-df-convert {\n",
              "      background-color: #E8F0FE;\n",
              "      border: none;\n",
              "      border-radius: 50%;\n",
              "      cursor: pointer;\n",
              "      display: none;\n",
              "      fill: #1967D2;\n",
              "      height: 32px;\n",
              "      padding: 0 0 0 0;\n",
              "      width: 32px;\n",
              "    }\n",
              "\n",
              "    .colab-df-convert:hover {\n",
              "      background-color: #E2EBFA;\n",
              "      box-shadow: 0px 1px 2px rgba(60, 64, 67, 0.3), 0px 1px 3px 1px rgba(60, 64, 67, 0.15);\n",
              "      fill: #174EA6;\n",
              "    }\n",
              "\n",
              "    [theme=dark] .colab-df-convert {\n",
              "      background-color: #3B4455;\n",
              "      fill: #D2E3FC;\n",
              "    }\n",
              "\n",
              "    [theme=dark] .colab-df-convert:hover {\n",
              "      background-color: #434B5C;\n",
              "      box-shadow: 0px 1px 3px 1px rgba(0, 0, 0, 0.15);\n",
              "      filter: drop-shadow(0px 1px 2px rgba(0, 0, 0, 0.3));\n",
              "      fill: #FFFFFF;\n",
              "    }\n",
              "  </style>\n",
              "\n",
              "      <script>\n",
              "        const buttonEl =\n",
              "          document.querySelector('#df-cecd99d1-2ede-4d23-b3ff-9b25a2bc3353 button.colab-df-convert');\n",
              "        buttonEl.style.display =\n",
              "          google.colab.kernel.accessAllowed ? 'block' : 'none';\n",
              "\n",
              "        async function convertToInteractive(key) {\n",
              "          const element = document.querySelector('#df-cecd99d1-2ede-4d23-b3ff-9b25a2bc3353');\n",
              "          const dataTable =\n",
              "            await google.colab.kernel.invokeFunction('convertToInteractive',\n",
              "                                                     [key], {});\n",
              "          if (!dataTable) return;\n",
              "\n",
              "          const docLinkHtml = 'Like what you see? Visit the ' +\n",
              "            '<a target=\"_blank\" href=https://colab.research.google.com/notebooks/data_table.ipynb>data table notebook</a>'\n",
              "            + ' to learn more about interactive tables.';\n",
              "          element.innerHTML = '';\n",
              "          dataTable['output_type'] = 'display_data';\n",
              "          await google.colab.output.renderOutput(dataTable, element);\n",
              "          const docLink = document.createElement('div');\n",
              "          docLink.innerHTML = docLinkHtml;\n",
              "          element.appendChild(docLink);\n",
              "        }\n",
              "      </script>\n",
              "    </div>\n",
              "  </div>\n",
              "  "
            ]
          },
          "metadata": {},
          "execution_count": 22
        }
      ]
    },
    {
      "cell_type": "markdown",
      "source": [
        "Pronto! Agora iremos começar o processo da regressão linear em si, começando com a separação de dados de teste e treinamento."
      ],
      "metadata": {
        "id": "NGwRVX0O0ru_"
      }
    },
    {
      "cell_type": "code",
      "source": [
        "X_train, X_test, y_train, y_test = train_test_split(df[['Adj Close']], df[['EMA_10']], test_size=0.2)"
      ],
      "metadata": {
        "id": "YrgW04fI0z3G"
      },
      "execution_count": 23,
      "outputs": []
    },
    {
      "cell_type": "code",
      "source": [
        "print(X_test.describe())"
      ],
      "metadata": {
        "colab": {
          "base_uri": "https://localhost:8080/"
        },
        "id": "D1rp7hGs1JrL",
        "outputId": "5f8c0569-6f2f-460b-c534-94c70187ee99"
      },
      "execution_count": 24,
      "outputs": [
        {
          "output_type": "stream",
          "name": "stdout",
          "text": [
            "        Adj Close\n",
            "count   49.000000\n",
            "mean   285.350202\n",
            "std    146.993020\n",
            "min     72.244003\n",
            "25%    156.000000\n",
            "50%    295.298004\n",
            "75%    410.829987\n",
            "max    663.690002\n"
          ]
        }
      ]
    },
    {
      "cell_type": "code",
      "source": [
        "print(X_train.describe())"
      ],
      "metadata": {
        "colab": {
          "base_uri": "https://localhost:8080/"
        },
        "id": "jFMbHAmK1J_x",
        "outputId": "5bfad2ba-703e-4256-b13f-9ff2632ca64e"
      },
      "execution_count": 25,
      "outputs": [
        {
          "output_type": "stream",
          "name": "stdout",
          "text": [
            "        Adj Close\n",
            "count  195.000000\n",
            "mean   300.130472\n",
            "std    172.888560\n",
            "min     85.505997\n",
            "25%    154.040001\n",
            "50%    274.877991\n",
            "75%    425.735001\n",
            "max    705.669983\n"
          ]
        }
      ]
    },
    {
      "cell_type": "markdown",
      "source": [
        "Posteriormente, começaremos a treinar o modelo e realizar as predições:"
      ],
      "metadata": {
        "id": "3hh61fqe1ReT"
      }
    },
    {
      "cell_type": "code",
      "source": [
        "from sklearn.linear_model import LinearRegression\n",
        "model2 = LinearRegression()"
      ],
      "metadata": {
        "id": "t8wFu5lz1XCI"
      },
      "execution_count": 26,
      "outputs": []
    },
    {
      "cell_type": "code",
      "source": [
        "model2.fit(X_train, y_train)"
      ],
      "metadata": {
        "colab": {
          "base_uri": "https://localhost:8080/"
        },
        "id": "evI844VH1Zge",
        "outputId": "f57fa1a0-4d54-4702-b018-45bc806a8c77"
      },
      "execution_count": 27,
      "outputs": [
        {
          "output_type": "execute_result",
          "data": {
            "text/plain": [
              "LinearRegression()"
            ]
          },
          "metadata": {},
          "execution_count": 27
        }
      ]
    },
    {
      "cell_type": "code",
      "source": [
        "y_pred = model2.predict(X_test)"
      ],
      "metadata": {
        "id": "vNVSUqf41bae"
      },
      "execution_count": 28,
      "outputs": []
    },
    {
      "cell_type": "markdown",
      "source": [
        "Exibindo algumas métricas importantes para validação do modelo:"
      ],
      "metadata": {
        "id": "-yno58VS1yoY"
      }
    },
    {
      "cell_type": "code",
      "source": [
        "from sklearn.metrics import mean_squared_error, r2_score, mean_absolute_error\n",
        "\n",
        "print(\"Model Coefficients:\", model2.coef_)\n",
        "print(\"Mean Absolute Error:\", mean_absolute_error(y_test, y_pred))\n",
        "print(\"Coefficient of Determination:\", r2_score(y_test, y_pred))"
      ],
      "metadata": {
        "colab": {
          "base_uri": "https://localhost:8080/"
        },
        "id": "oGB8x11C13d1",
        "outputId": "1a14bdc0-2cd6-4c11-c263-11764f701c48"
      },
      "execution_count": 29,
      "outputs": [
        {
          "output_type": "stream",
          "name": "stdout",
          "text": [
            "Model Coefficients: [[0.94309502]]\n",
            "Mean Absolute Error: 15.89455057500535\n",
            "Coefficient of Determination: 0.9815058908333727\n"
          ]
        }
      ]
    },
    {
      "cell_type": "markdown",
      "source": [
        "E expondo os resultados graficamente, teremos o seguinte comportamento:"
      ],
      "metadata": {
        "id": "0bXuKqkL1qaM"
      }
    },
    {
      "cell_type": "code",
      "source": [
        "result_test = y_test.values.tolist()\n",
        "result_pred = y_pred[:10]"
      ],
      "metadata": {
        "id": "LtW24FUa1qAc"
      },
      "execution_count": 30,
      "outputs": []
    },
    {
      "cell_type": "code",
      "source": [
        "plt.scatter(X_test[:10], result_test[:10], color='red')\n",
        "\n",
        "plt.plot(X_test[:10], result_pred[:10], color='orange')\n",
        "plt.show()\n",
        "\n"
      ],
      "metadata": {
        "colab": {
          "base_uri": "https://localhost:8080/",
          "height": 265
        },
        "id": "N_Q4DT1pv7VE",
        "outputId": "f1a9ff28-bd16-481b-e84f-c98a4f7963af"
      },
      "execution_count": 31,
      "outputs": [
        {
          "output_type": "display_data",
          "data": {
            "text/plain": [
              "<Figure size 432x288 with 1 Axes>"
            ],
            "image/png": "[encoded data removed]"
          },
          "metadata": {
            "needs_background": "light"
          }
        }
      ]
    },
    {
      "cell_type": "markdown",
      "source": [
        "**Exemplo prático 2**:\n",
        "\n",
        "Agora vamos supor que queremos encontrar uma reta que represente a relação entre anos trabalhados e salário de funcionarios, podendo por exeplo estimar a média salarial para diferentes cargos com diferentes experiências profissionais. Podemos resolver este problema com regressão linear, para isto:"
      ],
      "metadata": {
        "id": "i_NFEgHvWMuD"
      }
    },
    {
      "cell_type": "markdown",
      "source": [
        "Primeiramente irei importar um dataset que contém dados coletados de diferentes profissionais, sendo o dataset dividido nas seguintes colunas:\n",
        "\n",
        "- YearsExperience - um valor decimal que representa quanto tempo de experiência possui o profissional.\n",
        "- Salary - um valor decimal que representa o salário do profissional."
      ],
      "metadata": {
        "id": "jFmPjukhXN78"
      }
    },
    {
      "cell_type": "code",
      "source": [
        "DATASET_LOCATION_2 = \"https://raw.githubusercontent.com/content-anu/dataset-simple-linear/master/Salary_Data.csv\"\n",
        "df_example2 = pd.read_csv(DATASET_LOCATION_2)"
      ],
      "metadata": {
        "id": "CJW0KARpXNGT"
      },
      "execution_count": 32,
      "outputs": []
    },
    {
      "cell_type": "code",
      "source": [
        "print(df_example2.head())"
      ],
      "metadata": {
        "colab": {
          "base_uri": "https://localhost:8080/"
        },
        "id": "5oyCNlkwcezj",
        "outputId": "d0beecba-e066-4ea1-bde5-cbc05a9197ff"
      },
      "execution_count": 33,
      "outputs": [
        {
          "output_type": "stream",
          "name": "stdout",
          "text": [
            "   YearsExperience   Salary\n",
            "0              1.1  39343.0\n",
            "1              1.3  46205.0\n",
            "2              1.5  37731.0\n",
            "3              2.0  43525.0\n",
            "4              2.2  39891.0\n"
          ]
        }
      ]
    },
    {
      "cell_type": "markdown",
      "source": [
        "Vamos agora separar a variável independente e a variável dependente:"
      ],
      "metadata": {
        "id": "DGnh-TybcssL"
      }
    },
    {
      "cell_type": "code",
      "source": [
        "experience = df_example2.iloc[:,:-1].values # Variável independente\n",
        "salary = df_example2.iloc[:,1].values # Variável dependente"
      ],
      "metadata": {
        "id": "Whm5Qhx8c1XX"
      },
      "execution_count": 34,
      "outputs": []
    },
    {
      "cell_type": "code",
      "source": [
        "experience"
      ],
      "metadata": {
        "colab": {
          "base_uri": "https://localhost:8080/"
        },
        "id": "FfzFRR9ndK0T",
        "outputId": "10e83ecc-0685-449e-b6d8-000f1e55dd24"
      },
      "execution_count": 35,
      "outputs": [
        {
          "output_type": "execute_result",
          "data": {
            "text/plain": [
              "array([[ 1.1],\n",
              "       [ 1.3],\n",
              "       [ 1.5],\n",
              "       [ 2. ],\n",
              "       [ 2.2],\n",
              "       [ 2.9],\n",
              "       [ 3. ],\n",
              "       [ 3.2],\n",
              "       [ 3.2],\n",
              "       [ 3.7],\n",
              "       [ 3.9],\n",
              "       [ 4. ],\n",
              "       [ 4. ],\n",
              "       [ 4.1],\n",
              "       [ 4.5],\n",
              "       [ 4.9],\n",
              "       [ 5.1],\n",
              "       [ 5.3],\n",
              "       [ 5.9],\n",
              "       [ 6. ],\n",
              "       [ 6.8],\n",
              "       [ 7.1],\n",
              "       [ 7.9],\n",
              "       [ 8.2],\n",
              "       [ 8.7],\n",
              "       [ 9. ],\n",
              "       [ 9.5],\n",
              "       [ 9.6],\n",
              "       [10.3],\n",
              "       [10.5]])"
            ]
          },
          "metadata": {},
          "execution_count": 35
        }
      ]
    },
    {
      "cell_type": "code",
      "source": [
        "salary"
      ],
      "metadata": {
        "colab": {
          "base_uri": "https://localhost:8080/"
        },
        "id": "k1T8B58ndAQW",
        "outputId": "6c450272-0b4f-438d-b22f-5741afefe1ec"
      },
      "execution_count": 36,
      "outputs": [
        {
          "output_type": "execute_result",
          "data": {
            "text/plain": [
              "array([ 39343.,  46205.,  37731.,  43525.,  39891.,  56642.,  60150.,\n",
              "        54445.,  64445.,  57189.,  63218.,  55794.,  56957.,  57081.,\n",
              "        61111.,  67938.,  66029.,  83088.,  81363.,  93940.,  91738.,\n",
              "        98273., 101302., 113812., 109431., 105582., 116969., 112635.,\n",
              "       122391., 121872.])"
            ]
          },
          "metadata": {},
          "execution_count": 36
        }
      ]
    },
    {
      "cell_type": "markdown",
      "source": [
        "Em seguida vamos separar a base de dados em dados de treinamento e de teste, apenas para fins de demonstração, usando a relação de 30/70 respectivamente."
      ],
      "metadata": {
        "id": "bDTIreXCdTBL"
      }
    },
    {
      "cell_type": "code",
      "source": [
        "from sklearn.model_selection import train_test_split\n",
        "X_train, X_test, y_train, y_test = train_test_split(experience, salary, test_size=0.3)"
      ],
      "metadata": {
        "id": "u2qNWI4edMV7"
      },
      "execution_count": 37,
      "outputs": []
    },
    {
      "cell_type": "markdown",
      "source": [
        "Em seguida, vamos instanciar e treinar o modelo de regressao linear. Mas desta vez eu não irei utilizar diretamente o modelo pronto da biblioteca scipy, mas sim irei utilizar o método de fatorização QR. Para isso irei utilizar os submódulos \"qr\" e \"inv\", sendo estes do ecosistema \"linalg\" presente no numpy."
      ],
      "metadata": {
        "id": "_aBl0KwSdqMs"
      }
    },
    {
      "cell_type": "code",
      "source": [
        "from numpy.linalg import inv\n",
        "from numpy.linalg import qr"
      ],
      "metadata": {
        "id": "CqOMLJ8lgcSc"
      },
      "execution_count": 38,
      "outputs": []
    },
    {
      "cell_type": "code",
      "source": [
        "Q, R = qr(X_test)\n",
        "b = inv(R).dot(Q.T).dot(y_test)\n",
        "print(b)"
      ],
      "metadata": {
        "colab": {
          "base_uri": "https://localhost:8080/"
        },
        "id": "S9zYDruRdlks",
        "outputId": "5b9eb96d-1bac-4495-c3cb-3c067b2ce1e4"
      },
      "execution_count": 39,
      "outputs": [
        {
          "output_type": "stream",
          "name": "stdout",
          "text": [
            "[14899.23219991]\n"
          ]
        }
      ]
    },
    {
      "cell_type": "markdown",
      "source": [
        "Com o valor \"b\" encontrado, iremos multiplicar cada item do array \"X_test\" por este valor, tendo assim:"
      ],
      "metadata": {
        "id": "dVetWWqck97N"
      }
    },
    {
      "cell_type": "code",
      "source": [
        "y_plot = X_test.dot(b)"
      ],
      "metadata": {
        "id": "CgOIX596lLzE"
      },
      "execution_count": 40,
      "outputs": []
    },
    {
      "cell_type": "markdown",
      "source": [
        "Por último, vamos vizualizar o modelo graficamente para uma melhor compreensão"
      ],
      "metadata": {
        "id": "jhq47hFOeNGG"
      }
    },
    {
      "cell_type": "code",
      "source": [
        "plt.scatter(X_test, y_test)\n",
        "plt.plot(X_test, y_plot, color='red')\n",
        "\n",
        "plt.xlabel(\"Years of experience\")\n",
        "plt.ylabel(\"Salaries\")\n",
        "\n",
        "plt.show()"
      ],
      "metadata": {
        "colab": {
          "base_uri": "https://localhost:8080/",
          "height": 279
        },
        "id": "e8a33uayl4vW",
        "outputId": "baf294b3-6749-43ce-bc2d-f15a7bab8cd1"
      },
      "execution_count": 41,
      "outputs": [
        {
          "output_type": "display_data",
          "data": {
            "text/plain": [
              "<Figure size 432x288 with 1 Axes>"
            ],
            "image/png": "[encoded data removed]"
          },
          "metadata": {
            "needs_background": "light"
          }
        }
      ]
    },
    {
      "cell_type": "markdown",
      "source": [
        "Referencias:\n",
        "\n",
        "\n",
        "\n",
        "https://www.analyticsvidhya.com/blog/2020/10/examining-the-simple-linear-regression-method-for-forecasting-stock-prices-using-excel/\n",
        "\n",
        "https://dvinvest.com.br/aprenda/blog/medias-moveis-aprenda-como-utilizar-as-medias-moveis-para-auxiliar-suas-operacoes\n",
        "\n",
        "https://www.askpython.com/python/examples/linear-regression-in-python"
      ],
      "metadata": {
        "id": "8MCVSZ2punkn"
      }
    }
  ],
  "metadata": {
    "kernelspec": {
      "display_name": "Python 3",
      "language": "python",
      "name": "python3"
    },
    "language_info": {
      "codemirror_mode": {
        "name": "ipython",
        "version": 3
      },
      "file_extension": ".py",
      "mimetype": "text/x-python",
      "name": "python",
      "nbconvert_exporter": "python",
      "pygments_lexer": "ipython3",
      "version": "3.8.5"
    },
    "colab": {
      "name": "Regressão Linear.ipynb",
      "provenance": []
    }
  },
  "nbformat": 4,
  "nbformat_minor": 0
}